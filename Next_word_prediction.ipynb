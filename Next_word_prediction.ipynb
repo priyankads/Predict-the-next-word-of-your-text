{
 "cells": [
  {
   "cell_type": "markdown",
   "id": "4d8a7f41",
   "metadata": {},
   "source": [
    "# MIT License\n",
    "\n",
    "Copyright (c) 2021 Priyanka Dilip Shinde And Sangram Vuppala\n",
    "\n",
    "Permission is hereby granted, free of charge, to any person obtaining a copy of this software and associated documentation files (the \"Software\"), to deal in the Software without restriction, including without limitation the rights to use, copy, modify, merge, publish, distribute, sublicense, and/or sell copies of the Software, and to permit persons to whom the Software is furnished to do so, subject to the following conditions:\n",
    "\n",
    "The above copyright notice and this permission notice shall be included in all copies or substantial portions of the Software.\n",
    "\n",
    "THE SOFTWARE IS PROVIDED \"AS IS\", WITHOUT WARRANTY OF ANY KIND, EXPRESS OR IMPLIED, INCLUDING BUT NOT LIMITED TO THE WARRANTIES OF MERCHANTABILITY, FITNESS FOR A PARTICULAR PURPOSE AND NONINFRINGEMENT. IN NO EVENT SHALL THE AUTHORS OR COPYRIGHT HOLDERS BE LIABLE FOR ANY CLAIM, DAMAGES OR OTHER LIABILITY, WHETHER IN AN ACTION OF CONTRACT, TORT OR OTHERWISE, ARISING FROM, OUT OF OR IN CONNECTION WITH THE SOFTWARE OR THE USE OR OTHER DEALINGS IN THE SOFTWARE."
   ]
  },
  {
   "cell_type": "markdown",
   "id": "d04e6640",
   "metadata": {},
   "source": [
    "# Abstract\n",
    "\n",
    "About Data: The training dataset is a text file of The Adventures of Sherlock Holmes book.\n",
    "\n",
    "Aim: To build a LSTM model to predict next word of the text.\n",
    "\n",
    "Loaded Libraries and importing the dataset, creating features dictionary sequences, encoding it into the integer form with the help of the Tokenizer, splitting the sequences into the inputs and output, converting our output labels into one-hot vectors, building LSTM model, Training model, Evaluating model's performance."
   ]
  },
  {
   "cell_type": "markdown",
   "id": "459940a9",
   "metadata": {},
   "source": [
    "# Loading Libraries"
   ]
  },
  {
   "cell_type": "code",
   "execution_count": 1,
   "id": "dd5170f9",
   "metadata": {},
   "outputs": [
    {
     "name": "stderr",
     "output_type": "stream",
     "text": [
      "Using TensorFlow backend.\n"
     ]
    }
   ],
   "source": [
    "from keras.preprocessing.text import Tokenizer\n",
    "import nltk\n",
    "from nltk.tokenize import word_tokenize\n",
    "import numpy as np\n",
    "import re\n",
    "from keras.utils import to_categorical\n",
    "from keras.models import Sequential\n",
    "from keras.layers import Dense\n",
    "from keras.layers import LSTM\n",
    "from keras.layers import Embedding\n",
    "from keras.layers import Dropout\n",
    "import matplotlib.pyplot as plt"
   ]
  },
  {
   "cell_type": "code",
   "execution_count": 2,
   "id": "53075e23",
   "metadata": {},
   "outputs": [],
   "source": [
    "path = 'new3.txt'\n",
    "text = open(path).read().lower()"
   ]
  },
  {
   "cell_type": "markdown",
   "id": "15c6f05b",
   "metadata": {},
   "source": [
    "# Data Pre-processing"
   ]
  },
  {
   "cell_type": "code",
   "execution_count": 3,
   "id": "f7036407",
   "metadata": {},
   "outputs": [],
   "source": [
    "cleaned_text = re.sub(r'\\W+', ' ', text).lower()\n",
    "tokens = word_tokenize(cleaned_text)\n",
    "train_length = 4\n",
    "txt_seq = []"
   ]
  },
  {
   "cell_type": "code",
   "execution_count": 4,
   "id": "0c9c4c43",
   "metadata": {},
   "outputs": [],
   "source": [
    "for i in range(train_length,len(tokens)):\n",
    "    sequence = tokens[i-train_length:i]\n",
    "    txt_seq.append(sequence)"
   ]
  },
  {
   "cell_type": "code",
   "execution_count": 5,
   "id": "65e8cc2f",
   "metadata": {},
   "outputs": [],
   "source": [
    "seqs = {}\n",
    "cnt = 1\n",
    "for i in range(len(tokens)):\n",
    "    if tokens[i] not in seqs:\n",
    "        seqs[tokens[i]] = cnt\n",
    "        cnt += 1"
   ]
  },
  {
   "cell_type": "code",
   "execution_count": 6,
   "id": "a3777e6b",
   "metadata": {},
   "outputs": [],
   "source": [
    "tokenizer = Tokenizer()\n",
    "tokenizer.fit_on_texts(txt_seq)\n",
    "seqs = tokenizer.texts_to_sequences(txt_seq)"
   ]
  },
  {
   "cell_type": "code",
   "execution_count": 7,
   "id": "f80a83af",
   "metadata": {},
   "outputs": [],
   "source": [
    "vocab_size = len(tokenizer.word_counts)+1\n",
    "n_seqs = np.empty([len(seqs),train_length], dtype='int32')"
   ]
  },
  {
   "cell_type": "code",
   "execution_count": 8,
   "id": "52373564",
   "metadata": {},
   "outputs": [],
   "source": [
    "for i in range(len(seqs)):\n",
    "    n_seqs[i] = seqs[i]"
   ]
  },
  {
   "cell_type": "markdown",
   "id": "f74eb1a0",
   "metadata": {},
   "source": [
    "## Splitting the sequences into the inputs and output labels and converting our output labels into one-hot vectors"
   ]
  },
  {
   "cell_type": "code",
   "execution_count": 9,
   "id": "41dc15bb",
   "metadata": {},
   "outputs": [],
   "source": [
    "input_1 = n_seqs[:,:-1]\n",
    "target_1 = n_seqs[:,-1]\n",
    "target_1 = to_categorical(target_1, num_classes=vocab_size)\n",
    "seq_len = input_1.shape[1]"
   ]
  },
  {
   "cell_type": "markdown",
   "id": "5fcf6bdd",
   "metadata": {},
   "source": [
    "# Building the Model"
   ]
  },
  {
   "cell_type": "code",
   "execution_count": 10,
   "id": "0bf5a976",
   "metadata": {},
   "outputs": [],
   "source": [
    "model = Sequential()\n",
    "model.add(Embedding(vocab_size, seq_len, input_length=seq_len))\n",
    "model.add(LSTM(50,return_sequences=True))\n",
    "model.add(LSTM(50))\n",
    "model.add(Dense(50,activation='relu'))\n",
    "model.add(Dense(vocab_size, activation='softmax'))"
   ]
  },
  {
   "cell_type": "code",
   "execution_count": 11,
   "id": "72a686ec",
   "metadata": {
    "scrolled": true
   },
   "outputs": [
    {
     "name": "stderr",
     "output_type": "stream",
     "text": [
      "/Users/priyankashinde/opt/anaconda3/envs/myenvi/lib/python3.6/site-packages/tensorflow_core/python/framework/indexed_slices.py:424: UserWarning: Converting sparse IndexedSlices to a dense Tensor of unknown shape. This may consume a large amount of memory.\n",
      "  \"Converting sparse IndexedSlices to a dense Tensor of unknown shape. \"\n"
     ]
    },
    {
     "name": "stdout",
     "output_type": "stream",
     "text": [
      "Epoch 1/50\n",
      "109277/109277 [==============================] - 137s 1ms/step - loss: 6.6026 - accuracy: 0.0531\n",
      "Epoch 2/50\n",
      "109277/109277 [==============================] - 191s 2ms/step - loss: 6.2202 - accuracy: 0.0608\n",
      "Epoch 3/50\n",
      "109277/109277 [==============================] - 150s 1ms/step - loss: 5.9384 - accuracy: 0.0822\n",
      "Epoch 4/50\n",
      "109277/109277 [==============================] - 159s 1ms/step - loss: 5.7023 - accuracy: 0.0981\n",
      "Epoch 5/50\n",
      "109277/109277 [==============================] - 150s 1ms/step - loss: 5.5300 - accuracy: 0.1082\n",
      "Epoch 6/50\n",
      "109277/109277 [==============================] - 156s 1ms/step - loss: 5.3795 - accuracy: 0.1157\n",
      "Epoch 7/50\n",
      "109277/109277 [==============================] - 160s 1ms/step - loss: 5.2506 - accuracy: 0.1216\n",
      "Epoch 8/50\n",
      "109277/109277 [==============================] - 579s 5ms/step - loss: 5.1456 - accuracy: 0.1261\n",
      "Epoch 9/50\n",
      "109277/109277 [==============================] - 191s 2ms/step - loss: 5.0600 - accuracy: 0.1292\n",
      "Epoch 10/50\n",
      "109277/109277 [==============================] - 147s 1ms/step - loss: 4.9824 - accuracy: 0.1324\n",
      "Epoch 11/50\n",
      "109277/109277 [==============================] - 137s 1ms/step - loss: 4.9099 - accuracy: 0.1351\n",
      "Epoch 12/50\n",
      "109277/109277 [==============================] - 197s 2ms/step - loss: 4.8434 - accuracy: 0.1368\n",
      "Epoch 13/50\n",
      "109277/109277 [==============================] - 230s 2ms/step - loss: 4.7836 - accuracy: 0.1392\n",
      "Epoch 14/50\n",
      "109277/109277 [==============================] - 160s 1ms/step - loss: 4.7307 - accuracy: 0.1403\n",
      "Epoch 15/50\n",
      "109277/109277 [==============================] - 161s 1ms/step - loss: 4.6819 - accuracy: 0.1415\n",
      "Epoch 16/50\n",
      "109277/109277 [==============================] - 154s 1ms/step - loss: 4.6357 - accuracy: 0.1432\n",
      "Epoch 17/50\n",
      "109277/109277 [==============================] - 157s 1ms/step - loss: 4.5942 - accuracy: 0.1452\n",
      "Epoch 18/50\n",
      "109277/109277 [==============================] - 157s 1ms/step - loss: 4.5554 - accuracy: 0.1469\n",
      "Epoch 19/50\n",
      "109277/109277 [==============================] - 163s 1ms/step - loss: 4.5197 - accuracy: 0.1477\n",
      "Epoch 20/50\n",
      "109277/109277 [==============================] - 161s 1ms/step - loss: 4.4868 - accuracy: 0.1491\n",
      "Epoch 21/50\n",
      "109277/109277 [==============================] - 333s 3ms/step - loss: 4.4563 - accuracy: 0.1505\n",
      "Epoch 22/50\n",
      "109277/109277 [==============================] - 123s 1ms/step - loss: 4.4255 - accuracy: 0.1518\n",
      "Epoch 23/50\n",
      "109277/109277 [==============================] - 219s 2ms/step - loss: 4.3981 - accuracy: 0.1533\n",
      "Epoch 24/50\n",
      "109277/109277 [==============================] - 237s 2ms/step - loss: 4.3733 - accuracy: 0.1543\n",
      "Epoch 25/50\n",
      "109277/109277 [==============================] - 195s 2ms/step - loss: 4.3496 - accuracy: 0.1559\n",
      "Epoch 26/50\n",
      "109277/109277 [==============================] - 154s 1ms/step - loss: 4.3269 - accuracy: 0.1584\n",
      "Epoch 27/50\n",
      "109277/109277 [==============================] - 156s 1ms/step - loss: 4.3053 - accuracy: 0.1590\n",
      "Epoch 28/50\n",
      "109277/109277 [==============================] - 156s 1ms/step - loss: 4.2859 - accuracy: 0.1602\n",
      "Epoch 29/50\n",
      "109277/109277 [==============================] - 155s 1ms/step - loss: 4.2659 - accuracy: 0.1617\n",
      "Epoch 30/50\n",
      "109277/109277 [==============================] - 162s 1ms/step - loss: 4.2470 - accuracy: 0.1633\n",
      "Epoch 31/50\n",
      "109277/109277 [==============================] - 152s 1ms/step - loss: 4.2307 - accuracy: 0.1637\n",
      "Epoch 32/50\n",
      "109277/109277 [==============================] - 148s 1ms/step - loss: 4.2140 - accuracy: 0.1661\n",
      "Epoch 33/50\n",
      "109277/109277 [==============================] - 124s 1ms/step - loss: 4.1996 - accuracy: 0.1667\n",
      "Epoch 34/50\n",
      "109277/109277 [==============================] - 131s 1ms/step - loss: 4.1831 - accuracy: 0.1688\n",
      "Epoch 35/50\n",
      "109277/109277 [==============================] - 151s 1ms/step - loss: 4.1698 - accuracy: 0.1697\n",
      "Epoch 36/50\n",
      "109277/109277 [==============================] - 147s 1ms/step - loss: 4.1553 - accuracy: 0.1703\n",
      "Epoch 37/50\n",
      "109277/109277 [==============================] - 148s 1ms/step - loss: 4.1428 - accuracy: 0.1725\n",
      "Epoch 38/50\n",
      "109277/109277 [==============================] - 153s 1ms/step - loss: 4.1285 - accuracy: 0.1732\n",
      "Epoch 39/50\n",
      "109277/109277 [==============================] - 152s 1ms/step - loss: 4.1187 - accuracy: 0.1750\n",
      "Epoch 40/50\n",
      "109277/109277 [==============================] - 152s 1ms/step - loss: 4.1058 - accuracy: 0.1756\n",
      "Epoch 41/50\n",
      "109277/109277 [==============================] - 155s 1ms/step - loss: 4.0946 - accuracy: 0.1767\n",
      "Epoch 42/50\n",
      "109277/109277 [==============================] - 146s 1ms/step - loss: 4.0836 - accuracy: 0.1779\n",
      "Epoch 43/50\n",
      "109277/109277 [==============================] - 147s 1ms/step - loss: 4.0732 - accuracy: 0.1787\n",
      "Epoch 44/50\n",
      "109277/109277 [==============================] - 148s 1ms/step - loss: 4.0622 - accuracy: 0.1801\n",
      "Epoch 45/50\n",
      "109277/109277 [==============================] - 128s 1ms/step - loss: 4.0535 - accuracy: 0.1805\n",
      "Epoch 46/50\n",
      "109277/109277 [==============================] - 146s 1ms/step - loss: 4.0440 - accuracy: 0.1808\n",
      "Epoch 47/50\n",
      "109277/109277 [==============================] - 150s 1ms/step - loss: 4.0345 - accuracy: 0.1835\n",
      "Epoch 48/50\n",
      "109277/109277 [==============================] - 151s 1ms/step - loss: 4.0249 - accuracy: 0.1835\n",
      "Epoch 49/50\n",
      "109277/109277 [==============================] - 154s 1ms/step - loss: 4.0170 - accuracy: 0.1841\n",
      "Epoch 50/50\n",
      "109277/109277 [==============================] - 158s 1ms/step - loss: 4.0082 - accuracy: 0.1859\n"
     ]
    }
   ],
   "source": [
    "model.compile(loss='categorical_crossentropy', optimizer='adam', metrics=['accuracy'])\n",
    "history = model.fit(input_1,target_1,epochs=50,verbose=1).history"
   ]
  },
  {
   "cell_type": "markdown",
   "id": "1b3a43ee",
   "metadata": {},
   "source": [
    "# Plotting Accuracy and loss"
   ]
  },
  {
   "cell_type": "code",
   "execution_count": 12,
   "id": "95b64484",
   "metadata": {},
   "outputs": [
    {
     "data": {
      "text/plain": [
       "Text(0.5, 0, 'epoch')"
      ]
     },
     "execution_count": 12,
     "metadata": {},
     "output_type": "execute_result"
    },
    {
     "data": {
      "image/png": "[encoded data removed]",
      "text/plain": [
       "<Figure size 432x288 with 1 Axes>"
      ]
     },
     "metadata": {
      "needs_background": "light"
     },
     "output_type": "display_data"
    }
   ],
   "source": [
    "plt.plot(history['accuracy'])\n",
    "plt.title('model Train accuracy')\n",
    "plt.ylabel('accuracy')\n",
    "plt.xlabel('epoch')"
   ]
  },
  {
   "cell_type": "code",
   "execution_count": 13,
   "id": "a8dd77a8",
   "metadata": {},
   "outputs": [
    {
     "data": {
      "text/plain": [
       "Text(0.5, 0, 'epoch')"
      ]
     },
     "execution_count": 13,
     "metadata": {},
     "output_type": "execute_result"
    },
    {
     "data": {
      "image/png": "[encoded data removed]",
      "text/plain": [
       "<Figure size 432x288 with 1 Axes>"
      ]
     },
     "metadata": {
      "needs_background": "light"
     },
     "output_type": "display_data"
    }
   ],
   "source": [
    "plt.plot(history['loss'])\n",
    "plt.title('model Train loss')\n",
    "plt.ylabel('loss')\n",
    "plt.xlabel('epoch')"
   ]
  },
  {
   "cell_type": "markdown",
   "id": "69bcc31f",
   "metadata": {},
   "source": [
    "# Predicting the next word"
   ]
  },
  {
   "cell_type": "code",
   "execution_count": 18,
   "id": "f351ee2b",
   "metadata": {},
   "outputs": [
    {
     "name": "stdout",
     "output_type": "stream",
     "text": [
      "I had seen\n",
      "[3, 19, 185] [[  3  19 185]]\n",
      "Next word suggestion: it\n",
      "Next word suggestion: to\n",
      "Next word suggestion: of\n"
     ]
    }
   ],
   "source": [
    "from keras.preprocessing.sequence import pad_sequences\n",
    "input_text = input().strip().lower()\n",
    "encoded_text = tokenizer.texts_to_sequences([input_text])[0]\n",
    "pad_encoded = pad_sequences([encoded_text], maxlen=seq_len, truncating='pre')\n",
    "print(encoded_text, pad_encoded)\n",
    "for i in (model.predict(pad_encoded)[0]).argsort()[-3:][::-1]:\n",
    "    pred_word = tokenizer.index_word[i]\n",
    "    print(\"Next word suggestion:\",pred_word)\n"
   ]
  },
  {
   "cell_type": "markdown",
   "id": "2a12bd16",
   "metadata": {},
   "source": [
    "# Conclusion\n",
    "\n",
    "LSTM model with Embedding layer, two LSTM layers and tow dense layers with 50 epochs gives accuracy of 18% and the accuracy plot shows that the model's performance or accuracy can be improved by increasing the number of epochs."
   ]
  },
  {
   "cell_type": "markdown",
   "id": "0fc3aa77",
   "metadata": {},
   "source": [
    "# References\n",
    "\n",
    "1. https://www.analyticsvidhya.com/blog/2021/08/predict-the-next-word-of-your-text-using-long-short-term-memory-lstm/\n",
    "\n",
    "2. https://towardsdatascience.com/dont-overfit-how-to-prevent-overfitting-in-your-deep-learning-models-63274e552323\n",
    "\n",
    "3. https://www.hindawi.com/journals/wcmc/2021/5886119/![image.png](attachment:image.png)\n",
    "\n",
    "4. https://towardsdatascience.com/next-word-prediction-with-nlp-and-deep-learning-48b9fe0a17bf"
   ]
  }
 ],
 "metadata": {
  "kernelspec": {
   "display_name": "Python 3",
   "language": "python",
   "name": "python3"
  },
  "language_info": {
   "codemirror_mode": {
    "name": "ipython",
    "version": 3
   },
   "file_extension": ".py",
   "mimetype": "text/x-python",
   "name": "python",
   "nbconvert_exporter": "python",
   "pygments_lexer": "ipython3",
   "version": "3.8.8"
  }
 },
 "nbformat": 4,
 "nbformat_minor": 5
}
